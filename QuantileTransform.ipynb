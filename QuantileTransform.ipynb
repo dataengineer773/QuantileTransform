{
 "cells": [
  {
   "cell_type": "code",
   "execution_count": 1,
   "id": "cfbd91eb-ad59-43c2-9428-a6d6706409a6",
   "metadata": {},
   "outputs": [],
   "source": [
    "# demonstrate of the quantile transform\n",
    "from numpy import exp\n",
    "from numpy.random import randn\n",
    "from sklearn.preprocessing import QuantileTransformer\n",
    "from matplotlib import pyplot\n",
    "from sklearn.linear_model import LinearRegression\n",
    "import numpy as np"
   ]
  },
  {
   "cell_type": "code",
   "execution_count": 2,
   "id": "cd69d6a2-e566-492b-affe-fcb7ea8042d9",
   "metadata": {},
   "outputs": [],
   "source": [
    "# generate gaussian data sample\n",
    "data = randn(1000)"
   ]
  },
  {
   "cell_type": "code",
   "execution_count": 3,
   "id": "59a75d5e-199e-4c97-8320-e6a993fdedbe",
   "metadata": {},
   "outputs": [],
   "source": [
    "# add a skew to the data distribution\n",
    "data = exp(data)"
   ]
  },
  {
   "cell_type": "code",
   "execution_count": 4,
   "id": "6fe90f2b-fb7b-45e1-828a-f42447708592",
   "metadata": {},
   "outputs": [
    {
     "data": {
      "image/png": "[encoded data removed]",
      "text/plain": [
       "<Figure size 432x288 with 1 Axes>"
      ]
     },
     "metadata": {
      "needs_background": "light"
     },
     "output_type": "display_data"
    }
   ],
   "source": [
    "# histogram of the raw data with a skew\n",
    "pyplot.hist(data, bins=25)\n",
    "pyplot.show()"
   ]
  },
  {
   "cell_type": "code",
   "execution_count": 5,
   "id": "0ad29015-6fb6-465c-af67-2e6c16aeded5",
   "metadata": {},
   "outputs": [],
   "source": [
    "# the histgram show above us the skew dataset and clearly shows the distribution pushed to the far left"
   ]
  },
  {
   "cell_type": "code",
   "execution_count": 6,
   "id": "d4a866dc-c260-4142-966e-7806c52702b8",
   "metadata": {},
   "outputs": [],
   "source": [
    "# reshape data to have rows and columns\n",
    "data = data.reshape((len(data),1))"
   ]
  },
  {
   "cell_type": "code",
   "execution_count": 7,
   "id": "a05f5a63-7c3d-46a1-b435-cd6938453856",
   "metadata": {},
   "outputs": [],
   "source": [
    "# quantile transform the raw data\n",
    "quantile = QuantileTransformer(output_distribution='normal')\n",
    "data_trans = quantile.fit_transform(data)"
   ]
  },
  {
   "cell_type": "code",
   "execution_count": 8,
   "id": "a1285fbe-3a2b-4c85-add4-65c04e18bff4",
   "metadata": {},
   "outputs": [
    {
     "data": {
      "image/png": "[encoded data removed]",
      "text/plain": [
       "<Figure size 432x288 with 1 Axes>"
      ]
     },
     "metadata": {
      "needs_background": "light"
     },
     "output_type": "display_data"
    }
   ],
   "source": [
    "# histogram of the transformed data\n",
    "pyplot.hist(data_trans, bins=25)\n",
    "pyplot.show()"
   ]
  },
  {
   "cell_type": "code",
   "execution_count": 9,
   "id": "c9362c28-54dc-4824-9315-27a2de9fc97e",
   "metadata": {},
   "outputs": [],
   "source": [
    "# is used to map the data to gussian distribution"
   ]
  }
 ],
 "metadata": {
  "kernelspec": {
   "display_name": "Python 3 (ipykernel)",
   "language": "python",
   "name": "python3"
  },
  "language_info": {
   "codemirror_mode": {
    "name": "ipython",
    "version": 3
   },
   "file_extension": ".py",
   "mimetype": "text/x-python",
   "name": "python",
   "nbconvert_exporter": "python",
   "pygments_lexer": "ipython3",
   "version": "3.10.12"
  }
 },
 "nbformat": 4,
 "nbformat_minor": 5
}
